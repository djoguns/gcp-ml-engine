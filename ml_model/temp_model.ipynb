{
 "cells": [
  {
   "cell_type": "code",
   "execution_count": 77,
   "metadata": {},
   "outputs": [],
   "source": [
    "import pandas as pd\n",
    "import numpy as np\n",
    "from sklearn.preprocessing import LabelEncoder\n",
    "from sklearn.preprocessing import StandardScaler, MinMaxScaler\n",
    "from sklearn.model_selection import train_test_split\n",
    "from sklearn.linear_model import LogisticRegression\n",
    "from sklearn.metrics import mean_absolute_error as mae"
   ]
  },
  {
   "cell_type": "code",
   "execution_count": 62,
   "metadata": {},
   "outputs": [
    {
     "data": {
      "text/html": [
       "<style>.container { width:100% !important; }</style>"
      ],
      "text/plain": [
       "<IPython.core.display.HTML object>"
      ]
     },
     "metadata": {},
     "output_type": "display_data"
    }
   ],
   "source": [
    "from IPython.core.display import display, HTML\n",
    "display(HTML(\"<style>.container { width:100% !important; }</style>\"))\n",
    "pd.set_option('display.float_format', lambda x: '%.3f' % x)\n",
    "pd.set_option('display.max_rows', 500)\n",
    "pd.set_option('display.max_columns', 500)\n",
    "pd.set_option('display.width', 1000)"
   ]
  },
  {
   "cell_type": "code",
   "execution_count": 63,
   "metadata": {},
   "outputs": [],
   "source": [
    "df = pd.read_csv('iris.csv')\n",
    "scale_vars = list(df.select_dtypes([np.number]).columns)"
   ]
  },
  {
   "cell_type": "code",
   "execution_count": 68,
   "metadata": {},
   "outputs": [],
   "source": [
    "encoder = LabelEncoder()\n",
    "scaler = MinMaxScaler()\n",
    "\n",
    "df['species'] = encoder.fit_transform(df['species'])\n",
    "df[scale_vars] = scaler.fit_transform(df[scale_vars])\n",
    "X, y = train_test_split(df)"
   ]
  },
  {
   "cell_type": "code",
   "execution_count": 89,
   "metadata": {},
   "outputs": [
    {
     "name": "stdout",
     "output_type": "stream",
     "text": [
      "Train Error: 0.07142857142857142\n",
      "Train Score: 0.9285714285714286\n",
      "Test Error: 0.13157894736842105\n",
      "Test Score: 0.868421052631579\n"
     ]
    }
   ],
   "source": [
    "model = LogisticRegression(\n",
    "    solver='lbfgs',\n",
    "    multi_class='auto'\n",
    ")\n",
    "model.fit(X.drop('species', axis=1), X['species'])\n",
    "\n",
    "train_predict = model.predict(X.drop('species', axis=1))\n",
    "test_predict = model.predict(y.drop('species', axis=1))\n",
    "\n",
    "# Train Error + Score\n",
    "\n",
    "train_error = mae(\n",
    "    train_predict, \n",
    "    X['species']\n",
    ")\n",
    "\n",
    "train_score = model.score(\n",
    "    X.drop('species', axis=1), \n",
    "    X['species'].values.reshape(-1, 1)\n",
    ")\n",
    "\n",
    "# Test Error + Score\n",
    "\n",
    "test_error = mae(\n",
    "    test_predict, \n",
    "    y['species']\n",
    ")\n",
    "\n",
    "test_score = model.score(\n",
    "    y.drop('species', axis=1), \n",
    "    y['species'].values.reshape(-1, 1)\n",
    ")\n",
    "\n",
    "\n",
    "print('Train Error: {}'.format(train_error))\n",
    "print('Train Score: {}'.format(train_score))\n",
    "print('Test Error: {}'.format(test_error))\n",
    "print('Test Score: {}'.format(test_score))"
   ]
  },
  {
   "cell_type": "code",
   "execution_count": 90,
   "metadata": {},
   "outputs": [
    {
     "data": {
      "text/plain": [
       "1.0"
      ]
     },
     "execution_count": 90,
     "metadata": {},
     "output_type": "execute_result"
    }
   ],
   "source": [
    "train_error + train_score"
   ]
  },
  {
   "cell_type": "code",
   "execution_count": null,
   "metadata": {},
   "outputs": [],
   "source": []
  }
 ],
 "metadata": {
  "kernelspec": {
   "display_name": "Python 3",
   "language": "python",
   "name": "python3"
  },
  "language_info": {
   "codemirror_mode": {
    "name": "ipython",
    "version": 3
   },
   "file_extension": ".py",
   "mimetype": "text/x-python",
   "name": "python",
   "nbconvert_exporter": "python",
   "pygments_lexer": "ipython3",
   "version": "3.6.5"
  }
 },
 "nbformat": 4,
 "nbformat_minor": 2
}
